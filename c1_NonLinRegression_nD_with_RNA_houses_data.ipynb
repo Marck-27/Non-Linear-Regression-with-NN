{
 "cells": [
  {
   "cell_type": "markdown",
   "source": [
    "# Proyecto: Regresión No Lineal con Redes Neuronales y Validación Cruzada para predecir el valor de bienes raíces de acuerdo a 13 características dadas\n",
    "\n",
    "## Usaremos la función `KFold` para realizar la Validación Cruzada.\n",
    "\n",
    "## Veremos que para problemas de regresión la arquitectura de la red tiene una sola neurona de salida sin función de activación.\n",
    "\n",
    "## En este caso la función de costo a minimizar es: `loss = 'mse'` (mean square error) \n",
    "\n",
    "## y para evaluar el resultado del entrenamiento usamos la métrica: `metrics='mae'` (mean absolute error)"
   ],
   "metadata": {}
  },
  {
   "cell_type": "code",
   "execution_count": 1,
   "source": [
    "import pandas as pd\n",
    "\n",
    "import numpy as np\n",
    "\n",
    "import matplotlib.pyplot as plt\n",
    "\n",
    "# importamos dataset:\n",
    "from keras.datasets import boston_housing\n",
    "\n",
    "# importamos funciones para construir redes neuronales:\n",
    "from tensorflow.keras import layers, models, optimizers, regularizers\n",
    "\n",
    "# función para separar los datos en Cross-Validation:\n",
    "from sklearn.model_selection import KFold\n",
    "\n",
    "# importamos función que estandariza los datos,\n",
    "# ie. resta la media y divide por la desviación estandar (columna por columna)\n",
    "from sklearn.preprocessing import StandardScaler"
   ],
   "outputs": [],
   "metadata": {}
  },
  {
   "cell_type": "code",
   "execution_count": 2,
   "source": [
    "# Cargamos datos:\n",
    "(features_train, labels_train), (features_test, labels_test) = boston_housing.load_data()\n",
    "\n",
    "# Cada \"feature\" corresponde a 13 variables que determinan el precio \"label\" (en miles de dólares) de una casa."
   ],
   "outputs": [],
   "metadata": {}
  },
  {
   "cell_type": "markdown",
   "source": [
    "## Exploramos datos:"
   ],
   "metadata": {}
  },
  {
   "cell_type": "code",
   "execution_count": 3,
   "source": [
    "# Exploramos datos:\n",
    "\n",
    "print('El dataset \"features_train\" es de tamaño:' , features_train.shape)\n",
    "print('El dataset \"features_test\" es de tamaño:' , features_test.shape)\n",
    "print('Cada elemento de \"features\" es de tipo:' , type(features_train[0]))\n",
    "\n",
    "print('\\nEl dataset \"labels_train\" es de tamaño:' , labels_train.shape)\n",
    "print('El dataset \"labels_test\" es de tamaño:' , labels_test.shape)\n",
    "print('Cada elemento de \"labels\" es de tipo:' , type(labels_train[0]))"
   ],
   "outputs": [
    {
     "output_type": "stream",
     "name": "stdout",
     "text": [
      "El dataset \"features_train\" es de tamaño: (404, 13)\n",
      "El dataset \"features_test\" es de tamaño: (102, 13)\n",
      "Cada elemento de \"features\" es de tipo: <class 'numpy.ndarray'>\n",
      "\n",
      "El dataset \"labels_train\" es de tamaño: (404,)\n",
      "El dataset \"labels_test\" es de tamaño: (102,)\n",
      "Cada elemento de \"labels\" es de tipo: <class 'numpy.float64'>\n"
     ]
    }
   ],
   "metadata": {}
  },
  {
   "cell_type": "markdown",
   "source": [
    "## Estandarizamos los features columna por columna (ie. estandarizamos cada variable):"
   ],
   "metadata": {}
  },
  {
   "cell_type": "code",
   "execution_count": 4,
   "source": [
    "# Declaramos la función que estandariza un dataframe (columna por columna):\n",
    "ss = StandardScaler()\n",
    "\n",
    "# Estandarizamos features de entrenamiento (columna por columna):\n",
    "x_train  = ss.fit_transform( features_train  )\n",
    "\n",
    "# Estandarizamos features de prueba (columna por columna):\n",
    "x_test  = ss.fit_transform( features_test  )"
   ],
   "outputs": [],
   "metadata": {}
  },
  {
   "cell_type": "markdown",
   "source": [
    "# Obtenemos la media de los features de entrenamiento, columna por columna:\n",
    "mean_train = features_train.mean(axis=0)\n",
    "\n",
    "# Obtenemos la desviación estándar de los features de entrenamiento, columna por columna:\n",
    "std_train = features_train.std(axis=0)\n",
    "\n",
    "# Estandarizamos features de entrenamiento (columna por columna):\n",
    "x_train = (features_train - mean_train)/std_train\n",
    "\n",
    "# Estandarizamos features de prueba (columna por columna):\n",
    "# OBS: utilizamos la 'media' y 'sigma' de los datos de entrenamiento, \n",
    "# pues se supone que sólo se tiene conocimiento de los datos de entrenamiento.\n",
    "x_test = (features_test - mean_train)/std_train"
   ],
   "metadata": {}
  },
  {
   "cell_type": "code",
   "execution_count": 5,
   "source": [
    "# Verificamos que cada variable esté estandarizada,\n",
    "# es decir que la media y sigma de cada variable sean 0 y 1, respectivamente:\n",
    "\n",
    "print('media en cada variable:', np.round( x_train.mean(axis=0) ) )\n",
    "print('sigma en cada variable:', np.round( x_train.std(axis=0) ) )"
   ],
   "outputs": [
    {
     "output_type": "stream",
     "name": "stdout",
     "text": [
      "media en cada variable: [-0.  0.  0. -0. -0.  0.  0.  0.  0. -0.  0.  0.  0.]\n",
      "sigma en cada variable: [1. 1. 1. 1. 1. 1. 1. 1. 1. 1. 1. 1. 1.]\n"
     ]
    }
   ],
   "metadata": {}
  },
  {
   "cell_type": "code",
   "execution_count": 6,
   "source": [
    "# dimensión de los features para entrenar la red:\n",
    "dim_feature = x_train[0].shape\n",
    "dim_feature"
   ],
   "outputs": [
    {
     "output_type": "execute_result",
     "data": {
      "text/plain": [
       "(13,)"
      ]
     },
     "metadata": {},
     "execution_count": 6
    }
   ],
   "metadata": {}
  },
  {
   "cell_type": "markdown",
   "source": [
    "## Construimos la red neuronal dentro de una función:"
   ],
   "metadata": {}
  },
  {
   "cell_type": "code",
   "execution_count": 7,
   "source": [
    "# Construimos la red dentro de una función:\n",
    "\n",
    "# Parametros de entrada: 'dimension del feature' y 'learning rate'\n",
    "def build_model( dim_feature , lr ):\n",
    "\n",
    "    # Construimos arquitectura de la red:\n",
    "    model = models.Sequential()\n",
    "    # Capa 1 (entrada)\n",
    "    model.add( layers.Dense(64, activation='relu', input_shape=dim_feature ))\n",
    "    # Capa 2\n",
    "    model.add( layers.Dense(64, activation='relu' ))\n",
    "    # Capa de salida (una sóla neurona sin función de activación para problemas de regresión)\n",
    "    model.add( layers.Dense(1) )\n",
    "\n",
    "    # visualzamos la arquitecura de la red:\n",
    "    # model.summary()\n",
    "\n",
    "    # optimizador:\n",
    "    optim_meth = optimizers.Nadam(learning_rate=lr)\n",
    "\n",
    "    # compilamos la red:\n",
    "    model.compile(\n",
    "        optimizer= optim_meth,\n",
    "        loss='mse',  # <-- Función de costo a minimizar: mean square error (para problemas de regresión)\n",
    "        metrics='mae'# <-- Métrica para evaluar entrenamiento: mean absolute error\n",
    "        )\n",
    "\n",
    "    return model"
   ],
   "outputs": [],
   "metadata": {}
  },
  {
   "cell_type": "code",
   "execution_count": 8,
   "source": [
    "# ================= Parámetros que controlan la convergencia de la red =====================\n",
    "\n",
    "# learning rate:\n",
    "lr = 0.001\n",
    "\n",
    "n_epochs = 20\n",
    "\n",
    "n_batch_size = 16\n",
    "\n",
    "# ==========================================================================================="
   ],
   "outputs": [],
   "metadata": {}
  },
  {
   "cell_type": "markdown",
   "source": [
    "## Construimos parámetros para hacer Cross Validation:"
   ],
   "metadata": {}
  },
  {
   "cell_type": "code",
   "execution_count": 9,
   "source": [
    "# Definimos el separador K-Fold para hacer Cross-Validation:\n",
    "\n",
    "k = 5 # numero de particiones para K-fold\n",
    "\n",
    "kf = KFold(n_splits= k )#, shuffle=True, random_state=2)\n",
    "\n",
    "# k subconjuntos del mismo tamaño:\n",
    "\n",
    "#  Fold 1: |+++++|*****|*****|*****|...|*****|\n",
    "#  Fold 2: |*****|+++++|*****|*****|...|*****|\n",
    "#  Fold 3: |*****|*****|+++++|*****|...|*****|\n",
    "#  Fold 4: |*****|*****|*****|+++++|...|*****|\n",
    "#  \n",
    "#  Fold k: |*****|*****|*****|*****|...|+++++|\n",
    "\n",
    "# |*****| <-- datos de entrenamiento\n",
    "# |+++++| <-- datos de validación"
   ],
   "outputs": [],
   "metadata": {}
  },
  {
   "cell_type": "code",
   "execution_count": 10,
   "source": [
    "# Inicia prueba de validación cruzada:\n",
    "\n",
    "# Creamos listas vacía para guardar las curvas de 'loss' y 'accuracy' \n",
    "# con los datos de entrenamiento y validación en cada fold\n",
    "all_loss_train_curve = []\n",
    "all_accu_train_curve = []\n",
    "\n",
    "all_loss_valid_curve = []\n",
    "all_accu_valid_curve = []\n",
    "\n",
    "j=1\n",
    "# Tomamos los ínidices del dataset: 'x_train' mediante 'kf.split(x_train)'\n",
    "# aunque también se pueden tomas de 'labels_train' mediante 'kf.split(labels_train)'\n",
    "for id_train, id_val in kf.split(x_train): \n",
    "    print( '\\n **************** Fold:' , j , '****************' )    \n",
    "\n",
    "    # Seleccionamos Features y labels de entrenamiento en el Fold actual:\n",
    "    print('Indices_train:\\n',id_train)\n",
    "    x_train_part = x_train[id_train]\n",
    "    y_train_part = labels_train[id_train]\n",
    "\n",
    "    # Seleccionamos Features y labels de validación en el Fold actual:\n",
    "    print('\\nIndices_validation:\\n' , id_val)\n",
    "    x_val = x_train[id_val]\n",
    "    y_val = labels_train[id_val]\n",
    "\n",
    "    # Creamos el modelo de red neuronal en el Fold actual:\n",
    "    model = build_model(dim_feature , lr)\n",
    "\n",
    "    # Entrenamos la red para el Fold actual:   \n",
    "    print('\\n <<<<< Entrenando red en el Fold actual >>>>>')\n",
    "    training = model.fit(\n",
    "        x_train_part,\n",
    "        y_train_part,\n",
    "        epochs=n_epochs,\n",
    "        batch_size =n_batch_size,\n",
    "        validation_data = (x_val, y_val),\n",
    "        verbose=0\n",
    "    )\n",
    "\n",
    "    # Recordemos que podemos accesar a los resultados del entrenamiento a través de 'history'\n",
    "    # por ejemplo en este caso 'training.history' es un diccionario de la forma:\n",
    "    # {'loss':[valores de la curva loss con datos de entrenamiento], \n",
    "    #   'mae':[valores de la curva accuracy mae con datos de entrenamiento],\n",
    "    #   'val_loss':[valores de la curva loss con datos de validación],\n",
    "    #   'val_mae':[valores de la curva accuracy mae con datos de validación]\n",
    "    # }\n",
    "\n",
    "    # Extraemos las curvas de 'loss' y 'accuracy' para los datos de entrenamiento y validacion: \n",
    "    loss_train_curve = training.history['loss']\n",
    "    accu_train_curve = training.history['mae']    \n",
    "\n",
    "    loss_valid_curve = training.history['val_loss']\n",
    "    accu_valid_curve = training.history['val_mae']\n",
    "\n",
    "    # Vamos guardando las curvas en una lista:\n",
    "    all_loss_train_curve.append( loss_train_curve )\n",
    "    all_accu_train_curve.append( accu_train_curve )\n",
    "\n",
    "    all_loss_valid_curve.append( loss_valid_curve )\n",
    "    all_accu_valid_curve.append( accu_valid_curve )    \n",
    "    \n",
    "    j = j+1\n",
    "\n"
   ],
   "outputs": [
    {
     "output_type": "stream",
     "name": "stdout",
     "text": [
      "\n",
      " **************** Fold: 1 ****************\n",
      "Indices_train:\n",
      " [ 81  82  83  84  85  86  87  88  89  90  91  92  93  94  95  96  97  98\n",
      "  99 100 101 102 103 104 105 106 107 108 109 110 111 112 113 114 115 116\n",
      " 117 118 119 120 121 122 123 124 125 126 127 128 129 130 131 132 133 134\n",
      " 135 136 137 138 139 140 141 142 143 144 145 146 147 148 149 150 151 152\n",
      " 153 154 155 156 157 158 159 160 161 162 163 164 165 166 167 168 169 170\n",
      " 171 172 173 174 175 176 177 178 179 180 181 182 183 184 185 186 187 188\n",
      " 189 190 191 192 193 194 195 196 197 198 199 200 201 202 203 204 205 206\n",
      " 207 208 209 210 211 212 213 214 215 216 217 218 219 220 221 222 223 224\n",
      " 225 226 227 228 229 230 231 232 233 234 235 236 237 238 239 240 241 242\n",
      " 243 244 245 246 247 248 249 250 251 252 253 254 255 256 257 258 259 260\n",
      " 261 262 263 264 265 266 267 268 269 270 271 272 273 274 275 276 277 278\n",
      " 279 280 281 282 283 284 285 286 287 288 289 290 291 292 293 294 295 296\n",
      " 297 298 299 300 301 302 303 304 305 306 307 308 309 310 311 312 313 314\n",
      " 315 316 317 318 319 320 321 322 323 324 325 326 327 328 329 330 331 332\n",
      " 333 334 335 336 337 338 339 340 341 342 343 344 345 346 347 348 349 350\n",
      " 351 352 353 354 355 356 357 358 359 360 361 362 363 364 365 366 367 368\n",
      " 369 370 371 372 373 374 375 376 377 378 379 380 381 382 383 384 385 386\n",
      " 387 388 389 390 391 392 393 394 395 396 397 398 399 400 401 402 403]\n",
      "\n",
      "Indices_validation:\n",
      " [ 0  1  2  3  4  5  6  7  8  9 10 11 12 13 14 15 16 17 18 19 20 21 22 23\n",
      " 24 25 26 27 28 29 30 31 32 33 34 35 36 37 38 39 40 41 42 43 44 45 46 47\n",
      " 48 49 50 51 52 53 54 55 56 57 58 59 60 61 62 63 64 65 66 67 68 69 70 71\n",
      " 72 73 74 75 76 77 78 79 80]\n",
      "\n",
      " <<<<< Entrenando red en el Fold actual >>>>>\n",
      "\n",
      " **************** Fold: 2 ****************\n",
      "Indices_train:\n",
      " [  0   1   2   3   4   5   6   7   8   9  10  11  12  13  14  15  16  17\n",
      "  18  19  20  21  22  23  24  25  26  27  28  29  30  31  32  33  34  35\n",
      "  36  37  38  39  40  41  42  43  44  45  46  47  48  49  50  51  52  53\n",
      "  54  55  56  57  58  59  60  61  62  63  64  65  66  67  68  69  70  71\n",
      "  72  73  74  75  76  77  78  79  80 162 163 164 165 166 167 168 169 170\n",
      " 171 172 173 174 175 176 177 178 179 180 181 182 183 184 185 186 187 188\n",
      " 189 190 191 192 193 194 195 196 197 198 199 200 201 202 203 204 205 206\n",
      " 207 208 209 210 211 212 213 214 215 216 217 218 219 220 221 222 223 224\n",
      " 225 226 227 228 229 230 231 232 233 234 235 236 237 238 239 240 241 242\n",
      " 243 244 245 246 247 248 249 250 251 252 253 254 255 256 257 258 259 260\n",
      " 261 262 263 264 265 266 267 268 269 270 271 272 273 274 275 276 277 278\n",
      " 279 280 281 282 283 284 285 286 287 288 289 290 291 292 293 294 295 296\n",
      " 297 298 299 300 301 302 303 304 305 306 307 308 309 310 311 312 313 314\n",
      " 315 316 317 318 319 320 321 322 323 324 325 326 327 328 329 330 331 332\n",
      " 333 334 335 336 337 338 339 340 341 342 343 344 345 346 347 348 349 350\n",
      " 351 352 353 354 355 356 357 358 359 360 361 362 363 364 365 366 367 368\n",
      " 369 370 371 372 373 374 375 376 377 378 379 380 381 382 383 384 385 386\n",
      " 387 388 389 390 391 392 393 394 395 396 397 398 399 400 401 402 403]\n",
      "\n",
      "Indices_validation:\n",
      " [ 81  82  83  84  85  86  87  88  89  90  91  92  93  94  95  96  97  98\n",
      "  99 100 101 102 103 104 105 106 107 108 109 110 111 112 113 114 115 116\n",
      " 117 118 119 120 121 122 123 124 125 126 127 128 129 130 131 132 133 134\n",
      " 135 136 137 138 139 140 141 142 143 144 145 146 147 148 149 150 151 152\n",
      " 153 154 155 156 157 158 159 160 161]\n",
      "\n",
      " <<<<< Entrenando red en el Fold actual >>>>>\n",
      "\n",
      " **************** Fold: 3 ****************\n",
      "Indices_train:\n",
      " [  0   1   2   3   4   5   6   7   8   9  10  11  12  13  14  15  16  17\n",
      "  18  19  20  21  22  23  24  25  26  27  28  29  30  31  32  33  34  35\n",
      "  36  37  38  39  40  41  42  43  44  45  46  47  48  49  50  51  52  53\n",
      "  54  55  56  57  58  59  60  61  62  63  64  65  66  67  68  69  70  71\n",
      "  72  73  74  75  76  77  78  79  80  81  82  83  84  85  86  87  88  89\n",
      "  90  91  92  93  94  95  96  97  98  99 100 101 102 103 104 105 106 107\n",
      " 108 109 110 111 112 113 114 115 116 117 118 119 120 121 122 123 124 125\n",
      " 126 127 128 129 130 131 132 133 134 135 136 137 138 139 140 141 142 143\n",
      " 144 145 146 147 148 149 150 151 152 153 154 155 156 157 158 159 160 161\n",
      " 243 244 245 246 247 248 249 250 251 252 253 254 255 256 257 258 259 260\n",
      " 261 262 263 264 265 266 267 268 269 270 271 272 273 274 275 276 277 278\n",
      " 279 280 281 282 283 284 285 286 287 288 289 290 291 292 293 294 295 296\n",
      " 297 298 299 300 301 302 303 304 305 306 307 308 309 310 311 312 313 314\n",
      " 315 316 317 318 319 320 321 322 323 324 325 326 327 328 329 330 331 332\n",
      " 333 334 335 336 337 338 339 340 341 342 343 344 345 346 347 348 349 350\n",
      " 351 352 353 354 355 356 357 358 359 360 361 362 363 364 365 366 367 368\n",
      " 369 370 371 372 373 374 375 376 377 378 379 380 381 382 383 384 385 386\n",
      " 387 388 389 390 391 392 393 394 395 396 397 398 399 400 401 402 403]\n",
      "\n",
      "Indices_validation:\n",
      " [162 163 164 165 166 167 168 169 170 171 172 173 174 175 176 177 178 179\n",
      " 180 181 182 183 184 185 186 187 188 189 190 191 192 193 194 195 196 197\n",
      " 198 199 200 201 202 203 204 205 206 207 208 209 210 211 212 213 214 215\n",
      " 216 217 218 219 220 221 222 223 224 225 226 227 228 229 230 231 232 233\n",
      " 234 235 236 237 238 239 240 241 242]\n",
      "\n",
      " <<<<< Entrenando red en el Fold actual >>>>>\n",
      "\n",
      " **************** Fold: 4 ****************\n",
      "Indices_train:\n",
      " [  0   1   2   3   4   5   6   7   8   9  10  11  12  13  14  15  16  17\n",
      "  18  19  20  21  22  23  24  25  26  27  28  29  30  31  32  33  34  35\n",
      "  36  37  38  39  40  41  42  43  44  45  46  47  48  49  50  51  52  53\n",
      "  54  55  56  57  58  59  60  61  62  63  64  65  66  67  68  69  70  71\n",
      "  72  73  74  75  76  77  78  79  80  81  82  83  84  85  86  87  88  89\n",
      "  90  91  92  93  94  95  96  97  98  99 100 101 102 103 104 105 106 107\n",
      " 108 109 110 111 112 113 114 115 116 117 118 119 120 121 122 123 124 125\n",
      " 126 127 128 129 130 131 132 133 134 135 136 137 138 139 140 141 142 143\n",
      " 144 145 146 147 148 149 150 151 152 153 154 155 156 157 158 159 160 161\n",
      " 162 163 164 165 166 167 168 169 170 171 172 173 174 175 176 177 178 179\n",
      " 180 181 182 183 184 185 186 187 188 189 190 191 192 193 194 195 196 197\n",
      " 198 199 200 201 202 203 204 205 206 207 208 209 210 211 212 213 214 215\n",
      " 216 217 218 219 220 221 222 223 224 225 226 227 228 229 230 231 232 233\n",
      " 234 235 236 237 238 239 240 241 242 324 325 326 327 328 329 330 331 332\n",
      " 333 334 335 336 337 338 339 340 341 342 343 344 345 346 347 348 349 350\n",
      " 351 352 353 354 355 356 357 358 359 360 361 362 363 364 365 366 367 368\n",
      " 369 370 371 372 373 374 375 376 377 378 379 380 381 382 383 384 385 386\n",
      " 387 388 389 390 391 392 393 394 395 396 397 398 399 400 401 402 403]\n",
      "\n",
      "Indices_validation:\n",
      " [243 244 245 246 247 248 249 250 251 252 253 254 255 256 257 258 259 260\n",
      " 261 262 263 264 265 266 267 268 269 270 271 272 273 274 275 276 277 278\n",
      " 279 280 281 282 283 284 285 286 287 288 289 290 291 292 293 294 295 296\n",
      " 297 298 299 300 301 302 303 304 305 306 307 308 309 310 311 312 313 314\n",
      " 315 316 317 318 319 320 321 322 323]\n",
      "\n",
      " <<<<< Entrenando red en el Fold actual >>>>>\n",
      "\n",
      " **************** Fold: 5 ****************\n",
      "Indices_train:\n",
      " [  0   1   2   3   4   5   6   7   8   9  10  11  12  13  14  15  16  17\n",
      "  18  19  20  21  22  23  24  25  26  27  28  29  30  31  32  33  34  35\n",
      "  36  37  38  39  40  41  42  43  44  45  46  47  48  49  50  51  52  53\n",
      "  54  55  56  57  58  59  60  61  62  63  64  65  66  67  68  69  70  71\n",
      "  72  73  74  75  76  77  78  79  80  81  82  83  84  85  86  87  88  89\n",
      "  90  91  92  93  94  95  96  97  98  99 100 101 102 103 104 105 106 107\n",
      " 108 109 110 111 112 113 114 115 116 117 118 119 120 121 122 123 124 125\n",
      " 126 127 128 129 130 131 132 133 134 135 136 137 138 139 140 141 142 143\n",
      " 144 145 146 147 148 149 150 151 152 153 154 155 156 157 158 159 160 161\n",
      " 162 163 164 165 166 167 168 169 170 171 172 173 174 175 176 177 178 179\n",
      " 180 181 182 183 184 185 186 187 188 189 190 191 192 193 194 195 196 197\n",
      " 198 199 200 201 202 203 204 205 206 207 208 209 210 211 212 213 214 215\n",
      " 216 217 218 219 220 221 222 223 224 225 226 227 228 229 230 231 232 233\n",
      " 234 235 236 237 238 239 240 241 242 243 244 245 246 247 248 249 250 251\n",
      " 252 253 254 255 256 257 258 259 260 261 262 263 264 265 266 267 268 269\n",
      " 270 271 272 273 274 275 276 277 278 279 280 281 282 283 284 285 286 287\n",
      " 288 289 290 291 292 293 294 295 296 297 298 299 300 301 302 303 304 305\n",
      " 306 307 308 309 310 311 312 313 314 315 316 317 318 319 320 321 322 323]\n",
      "\n",
      "Indices_validation:\n",
      " [324 325 326 327 328 329 330 331 332 333 334 335 336 337 338 339 340 341\n",
      " 342 343 344 345 346 347 348 349 350 351 352 353 354 355 356 357 358 359\n",
      " 360 361 362 363 364 365 366 367 368 369 370 371 372 373 374 375 376 377\n",
      " 378 379 380 381 382 383 384 385 386 387 388 389 390 391 392 393 394 395\n",
      " 396 397 398 399 400 401 402 403]\n",
      "\n",
      " <<<<< Entrenando red en el Fold actual >>>>>\n"
     ]
    }
   ],
   "metadata": {}
  },
  {
   "cell_type": "markdown",
   "source": [
    "## A continuación promediamos las curvas 'loss' y 'accuracy' para los datos de entrenamiento y validación:"
   ],
   "metadata": {}
  },
  {
   "cell_type": "code",
   "execution_count": 11,
   "source": [
    "mean_loss_train_curve = pd.DataFrame( all_loss_train_curve ).mean(axis=0)\n",
    "mean_accu_train_curve = pd.DataFrame( all_accu_train_curve ).mean(axis=0)\n",
    "mean_loss_valid_curve = pd.DataFrame( all_loss_valid_curve ).mean(axis=0)\n",
    "mean_accu_valid_curve = pd.DataFrame( all_accu_valid_curve ).mean(axis=0)"
   ],
   "outputs": [],
   "metadata": {}
  },
  {
   "cell_type": "code",
   "execution_count": 12,
   "source": [
    "# Graficamos curvas:\n",
    "\n",
    "# Eje x:\n",
    "epoch = range( n_epochs )\n",
    "\n",
    "\n",
    "plt.figure()\n",
    "plt.figure(figsize=(15,5))\n",
    "\n",
    "plt.subplot(1,2,1)\n",
    "plt.plot(epoch, mean_loss_train_curve, '--', label='mse with training data')\n",
    "plt.plot(epoch, mean_loss_valid_curve, '--', label='mse with validation data')\n",
    "plt.legend()\n",
    "plt.title('mean square error with Cross Validation')\n",
    "plt.xlabel('epoch')\n",
    "\n",
    "\n",
    "plt.subplot(1,2,2)\n",
    "plt.plot(epoch, mean_accu_train_curve, label='mae with training data')\n",
    "plt.plot(epoch, mean_accu_valid_curve, label='mae with validation data')\n",
    "plt.legend()\n",
    "plt.title('mean absolute error with Cross Validation')\n",
    "plt.xlabel('epoch')\n",
    "plt.show()"
   ],
   "outputs": [
    {
     "output_type": "display_data",
     "data": {
      "text/plain": [
       "<Figure size 432x288 with 0 Axes>"
      ]
     },
     "metadata": {}
    },
    {
     "output_type": "display_data",
     "data": {
      "text/plain": [
       "<Figure size 1080x360 with 2 Axes>"
      ],
      "image/png": "[encoded data removed]"
     },
     "metadata": {
      "needs_background": "light"
     }
    }
   ],
   "metadata": {}
  },
  {
   "cell_type": "markdown",
   "source": [
    "## Evaluamnos el modelo con los datos de prueba:"
   ],
   "metadata": {}
  },
  {
   "cell_type": "code",
   "execution_count": 13,
   "source": [
    "model.evaluate(x_test, labels_test)"
   ],
   "outputs": [
    {
     "output_type": "stream",
     "name": "stdout",
     "text": [
      "4/4 [==============================] - 0s 4ms/step - loss: 18.0802 - mae: 3.1914\n"
     ]
    },
    {
     "output_type": "execute_result",
     "data": {
      "text/plain": [
       "[18.08016014099121, 3.191364049911499]"
      ]
     },
     "metadata": {},
     "execution_count": 13
    }
   ],
   "metadata": {}
  },
  {
   "cell_type": "markdown",
   "source": [
    "## Hacemos predicciones con el modelo entrenado:"
   ],
   "metadata": {}
  },
  {
   "cell_type": "code",
   "execution_count": 14,
   "source": [
    "# Predecimos las etiquetas de todos los features de prueba: \n",
    "y_predict = model.predict(x_test)\n",
    "\n",
    "y_predict.shape"
   ],
   "outputs": [
    {
     "output_type": "execute_result",
     "data": {
      "text/plain": [
       "(102, 1)"
      ]
     },
     "metadata": {},
     "execution_count": 14
    }
   ],
   "metadata": {}
  },
  {
   "cell_type": "code",
   "execution_count": 15,
   "source": [
    "# Predecimos una etiqueta en particular:\n",
    "\n",
    "i = 10 #<--- indice del valor a predecir (< 102)\n",
    "\n",
    "label_obs  = labels_test[i] #np.argmax(y_test[i])\n",
    "label_aprx = y_predict[i]\n",
    "\n",
    "print('    Etiqueta real: ', label_obs )\n",
    "print('Etiqueta predicha: ', label_aprx )"
   ],
   "outputs": [
    {
     "output_type": "stream",
     "name": "stdout",
     "text": [
      "    Etiqueta real:  18.6\n",
      "Etiqueta predicha:  [19.067284]\n"
     ]
    }
   ],
   "metadata": {}
  },
  {
   "cell_type": "code",
   "execution_count": 16,
   "source": [
    "# Diferencia promedio entre datos de prueba (observados y aproximados)\n",
    "y_obs = labels_test.reshape( y_predict.shape )\n",
    "err = ( np.linalg.norm( y_predict - y_obs) ) / (len(y_obs))\n",
    "err"
   ],
   "outputs": [
    {
     "output_type": "execute_result",
     "data": {
      "text/plain": [
       "0.42101839211965564"
      ]
     },
     "metadata": {},
     "execution_count": 16
    }
   ],
   "metadata": {}
  },
  {
   "cell_type": "code",
   "execution_count": null,
   "source": [],
   "outputs": [],
   "metadata": {}
  }
 ],
 "metadata": {
  "orig_nbformat": 4,
  "language_info": {
   "name": "python",
   "version": "3.8.10",
   "mimetype": "text/x-python",
   "codemirror_mode": {
    "name": "ipython",
    "version": 3
   },
   "pygments_lexer": "ipython3",
   "nbconvert_exporter": "python",
   "file_extension": ".py"
  },
  "kernelspec": {
   "name": "python3",
   "display_name": "Python 3.8.10 64-bit"
  },
  "interpreter": {
   "hash": "916dbcbb3f70747c44a77c7bcd40155683ae19c65e1c03b4aa3499c5328201f1"
  }
 },
 "nbformat": 4,
 "nbformat_minor": 2
}
